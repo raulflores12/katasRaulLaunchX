{
 "cells": [
  {
   "cell_type": "markdown",
   "metadata": {},
   "source": []
  },
  {
   "cell_type": "markdown",
   "metadata": {},
   "source": [
    " la aplicaci¾n.\n",
    "\n",
    "C:\\Users\\rafld>py -3 -m venv env\n",
    "\n",
    "C:\\Users\\rafld>env\n",
    "\"env\" no se reconoce como un comando interno o externo,\n",
    "programa o archivo por lotes ejecutable.\n",
    "\n",
    "C:\\Users\\rafld>py -3 -m venv env\n",
    "\n",
    "C:\\Users\\rafld>env\\Scripts\\activate\n",
    "\n",
    "(env) C:\\Users\\rafld>pip freeze\n",
    "\n",
    "(env) C:\\Users\\rafld>pip install python-dateutil\n",
    "Collecting python-dateutil\n",
    "  Using cached python_dateutil-2.8.2-py2.py3-none-any.whl (247 kB)\n",
    "Collecting six>=1.5\n",
    "  Using cached six-1.16.0-py2.py3-none-any.whl (11 kB)\n",
    "Installing collected packages: six, python-dateutil\n",
    "Successfully installed python-dateutil-2.8.2 six-1.16.0\n",
    "WARNING: You are using pip version 21.2.4; however, version 22.0.3 is available.\n",
    "You should consider upgrading via the 'C:\\Users\\rafld\\env\\Scripts\\python.exe -m pip install --upgrade pip' command.\n",
    "\n",
    "(env) C:\\Users\\rafld>pip freeze\n",
    "python-dateutil==2.8.2\n",
    "six==1.16.0\n",
    "\n",
    "(env) C:\\Users\\rafld>deactivate\n",
    "C:\\Users\\rafld>"
   ]
  }
 ],
 "metadata": {
  "language_info": {
   "name": "python"
  },
  "orig_nbformat": 4
 },
 "nbformat": 4,
 "nbformat_minor": 2
}
