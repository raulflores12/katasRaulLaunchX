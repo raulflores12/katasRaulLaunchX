{
  "cells": [
    {
      "cell_type": "code",
      "execution_count": 6,
      "metadata": {},
      "outputs": [
        {
          "name": "stdout",
          "output_type": "stream",
          "text": [
            "!ALERTA! !UN ASTEROIDE SE ACERCA A VELOCIDADES PELIGROSAS !\n"
          ]
        }
      ],
      "source": [
        "ast = 49\n",
        "if ast>25:\n",
        "    print('!ALERTA! !UN ASTEROIDE SE ACERCA A VELOCIDADES PELIGROSAS !')\n",
        "else:\n",
        "    print('¡Tu tranquilo aqui todo normal , tu sige con tu vida ')    "
      ]
    },
    {
      "cell_type": "code",
      "execution_count": 13,
      "metadata": {},
      "outputs": [
        {
          "name": "stdout",
          "output_type": "stream",
          "text": [
            "¡sigue cominando aqui no hay nada que ver !\n"
          ]
        }
      ],
      "source": [
        "aster = 19\n",
        "if aster > 25:\n",
        "    print('¡Mira arriba ! ¡ hay una luz magica en el cielo !')\n",
        "elif aster == 20:\n",
        "    print('¡Mira arriba ! ¡ hay una luz magica en el cielo !')   \n",
        "else:\n",
        "    print('¡sigue cominando aqui no hay nada que ver !')"
      ]
    },
    {
      "cell_type": "code",
      "execution_count": 17,
      "metadata": {},
      "outputs": [
        {
          "name": "stdout",
          "output_type": "stream",
          "text": [
            "¡Mira arriba ! ¡ hay una luz magica en el cielo !\n"
          ]
        }
      ],
      "source": [
        "vel_asteroide = 25\n",
        "tamaño_asteroide =40\n",
        "if vel_asteroide >25 and tamaño_asteroide > 25:\n",
        "    print('¡Alerta , un asteroide se dirige a la tierra !')\n",
        "elif vel_asteroide >= 20:\n",
        "    print('¡Mira arriba ! ¡ hay una luz magica en el cielo !')\n",
        "elif tamaño_asteroide <25:\n",
        "    print('¡sigue cominando aqui no hay nada que ver !')\n",
        "else:\n",
        "    print('¡sigue cominando aqui no hay nada que ver !')"
      ]
    }
  ],
  "metadata": {
    "interpreter": {
      "hash": "916dbcbb3f70747c44a77c7bcd40155683ae19c65e1c03b4aa3499c5328201f1"
    },
    "kernel_info": {
      "name": "conda-env-py37_default-py"
    },
    "kernelspec": {
      "display_name": "py37_default",
      "language": "python",
      "name": "python3"
    },
    "language_info": {
      "codemirror_mode": {
        "name": "ipython",
        "version": 3
      },
      "file_extension": ".py",
      "mimetype": "text/x-python",
      "name": "python",
      "nbconvert_exporter": "python",
      "pygments_lexer": "ipython3",
      "version": "3.10.2"
    },
    "nteract": {
      "version": "nteract-front-end@1.0.0"
    },
    "orig_nbformat": 4
  },
  "nbformat": 4,
  "nbformat_minor": 2
}
